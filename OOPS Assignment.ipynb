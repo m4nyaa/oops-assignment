{
  "metadata": {
    "kernelspec": {
      "name": "python",
      "display_name": "Python (Pyodide)",
      "language": "python"
    },
    "language_info": {
      "codemirror_mode": {
        "name": "python",
        "version": 3
      },
      "file_extension": ".py",
      "mimetype": "text/x-python",
      "name": "python",
      "nbconvert_exporter": "python",
      "pygments_lexer": "ipython3",
      "version": "3.8"
    }
  },
  "nbformat_minor": 5,
  "nbformat": 4,
  "cells": [
    {
      "id": "b51f3de5-a6e5-4e20-9bed-49d70aaa5ebe",
      "cell_type": "markdown",
      "source": "1. What is Object-Oriented Programming (OOP)?\n    -> OOP is a programming style based on the concept of objects, which helps to arrange functions in their respective classes.It helps in organizing code through features like inheritance, encapsulation, polymorphism, and abstraction, making software easier to develop, maintain, and scale.\n    \n2. What is a class in OOP?\n    ->A class in OOP is a user-defined blueprint that defines attributes (variables) and methods (functions) which describe the behavior and state of its objects.\n    \n3. What is an object in OOP?\n    ->An object is an instance of a class that contains actual data and can perform functions defined in the class.\n    \n4. What is the difference between abstraction and encapsulation?\n    ->Abstraction means showing only essential details to the user and hiding complex implementation.Encapsulation      involves bundling data and methods that operate on that data into a single unit, restricting direct access to      some of the object's components for security and simplicity.\n\n5. What are dunder methods in Python?\n    ->Dunder methods (double underscore) in Python are special methods with names that begin and end with double underscores, like __init__, __add__. They allow to define how objects of a class behave with built-in Python operations such as printing, arithmetic, and comparison.\n\n6. Explain the concept of inheritance in OOP?\n    ->Inheritance is an OOP feature that allows a class to inherit properties and methods from another class. It promotes code reusability, as common functionality can be defined once in a base class and shared across multiple derived classes with or without modifications.\n    \n7. What is polymorphism in OOP?\n    ->Polymorphism allows objects of different classes to be treated as objects of a common superclass. It enables one interface to be used for a variety of actions, such as method overriding in inheritance or method overloading, improving flexibility and scalability in program design.\n    \n8. How is encapsulation achieved in Python?\n    ->Encapsulation in Python is achieved by using private (or protected) attributes and methods, indicated by a leading underscore (`_`) or double underscore (`__`). It restricts direct access to object data and enforces access through getter and setter methods, ensuring controlled modification.\n\n9. What is a constructor in Python?\n    ->A constructor in Python is a special method called `__init__`, used to initialize an object's attributes when the object is created. It is automatically called when an object is instantiated, allowing you to set up initial values or configurations for the object.\n\n10. What are class and static methods in Python?\n    ->A class method is defined with the `@classmethod` decorator and takes `cls` as its first parameter, referring to the class itself. A static method, defined with `@staticmethod`, doesn't take `self` or `cls` and works like a regular function but belongs to the class namespace.\n\n11. What is method overloading in Python?\n    ->Method overloading in Python is not natively supported like in other languages. However, you can achieve overloading by using default arguments or variable-length arguments (like `*args` or `**kwargs`), allowing a method to accept different types or numbers of parameters.\n\n12. What is method overriding in OOP?\n    ->Method overriding is a feature of OOP where a subclass provides a specific implementation of a method that is already defined in its parent class. It allows the subclass to alter or extend the behavior of the inherited method.\n\n13. What is a property decorator in Python?\n    ->The `@property` decorator in Python allows you to define a method as a \"getter\" for an attribute, making it look like a regular attribute. It allows controlled access to the value, often used for validation or computation when accessing the attribute.\n\n14. Why is polymorphism important in OOP?\n    ->Polymorphism enables objects of different classes to be treated as objects of a common superclass. It simplifies code, enhances flexibility, and allows for more generic functions and methods, leading to easier code maintenance and better scalability.\n\n15. What is an abstract class in Python?\n    ->An abstract class in Python is a class that cannot be instantiated directly. It is used as a blueprint for other classes, defining abstract methods that must be implemented by subclasses. Abstract classes are defined using the `abc` module.\n\n16. What are the advantages of OOP?\n    ->OOP provides several advantages, including reusability through inheritance, modularity, and easier maintenance due to encapsulation. It also promotes abstraction, allowing developers to focus on high-level functionality, and supports polymorphism, making code more flexible and scalable.\n\n17. What is the difference between a class variable and an instance variable?\n    ->A class variable is shared by all instances of the class, while an instance variable is unique to each object. Class variables are typically used for data that is common across all objects, while instance variables store data specific to each instance.\n\n18. What is multiple inheritance in Python?\n    ->Multiple inheritance in Python allows a class to inherit from more than one parent class. This enables the subclass to inherit attributes and methods from multiple classes, promoting code reuse but requiring careful management of method resolution order (MRO) to avoid conflicts.\n\n19. Explain the purpose of __str__ and __repr__ methods in Python.\n    ->The __str__  method defines how an object should be represented as a string for end-user display. The __repr__ method provides a more formal string representation for developers, ideally suitable for debugging. If both are implemented, `__repr__` is used by the interpreter.\n\n20. What is the significance of the super() function in Python?**\n    ->super() is used to call methods from a parent class in a subclass. It helps to avoid explicitly naming the parent class, allowing for more maintainable and flexible code. It’s commonly used for calling the parent class’s constructor and methods in inheritance.\n\n21. What is the significance of the `__del__` method in Python?\n    ->The `__del__` method in Python is a destructor that is called when an object is about to be destroyed. It’s used to clean up resources, such as closing files or releasing external connections, when an object is no longer needed.\n\n22. What is the difference between `@staticmethod` and `@classmethod` in Python?\n    ->@staticmethod defines a method that doesn’t take `self` or `cls` as parameters and behaves like a regular function within a class. `@classmethod`, however, takes `cls` as its first parameter and is bound to the class, allowing it to access class variables.\n\n23. How does polymorphism work in Python with inheritance?\n    ->Polymorphism in Python allows different classes to define methods with the same name but different implementations. When a subclass overrides a method, Python will call the method based on the object’s class at runtime, allowing the same method call to behave differently depending on the object type.\n\n24. What is method chaining in Python OOP?\n    ->Method chaining is a technique where multiple methods are called on the same object in a single line of code. This is achieved by having methods return `self`, allowing subsequent methods to be called on the same instance without needing to reference it again.\n\n25. What is the purpose of the `__call__` method in Python?\n    ->The `__call__` method in Python allows an object to be called like a function. When defined in a class, an instance of that class can be called directly, which triggers the `__call__` method. It is useful for creating callable objects or implementing functor-like behavior.\n",
      "metadata": {}
    },
    {
      "id": "3b83a522-5ef1-4e3e-8182-f63f52de4b41",
      "cell_type": "code",
      "source": "#ques1\nclass Animal:\n    def speak(self):\n        print(\"Animal makes a sound\")\n\nclass Dog(Animal):\n    def speak(self):\n        print(\"Bark!\")\n\nanimal = Animal()\ndog = Dog()\n\nanimal.speak()  \ndog.speak()   \n",
      "metadata": {
        "trusted": true
      },
      "outputs": [
        {
          "name": "stdout",
          "output_type": "stream",
          "text": "Animal makes a sound\nBark!\n"
        }
      ],
      "execution_count": 1
    },
    {
      "id": "824a5d6f-e482-4d8e-aca0-a884578fdc7e",
      "cell_type": "code",
      "source": "#ques2\nfrom abc import ABC, abstractmethod\nimport math\n\nclass Shape(ABC):\n    @abstractmethod\n    def area(self):\n        pass\n\nclass Circle(Shape):\n    def __init__(self, radius):\n        self.radius = radius\n\n    def area(self):\n        return math.pi * self.radius ** 2\n\nclass Rectangle(Shape):\n    def __init__(self, width, height):\n        self.width = width\n        self.height = height\n\n    def area(self):\n        return self.width * self.height\n        \ncircle = Circle(5)\nrectangle = Rectangle(4, 6)\n\nprint(\"Circle area:\", circle.area())         \nprint(\"Rectangle area:\", rectangle.area())   \n",
      "metadata": {
        "trusted": true
      },
      "outputs": [
        {
          "name": "stdout",
          "output_type": "stream",
          "text": "Circle area: 78.53981633974483\nRectangle area: 24\n"
        }
      ],
      "execution_count": 2
    },
    {
      "id": "c2872701-1b6b-46a8-be25-f8c21dc8e4c2",
      "cell_type": "code",
      "source": "#ques3\nclass Vehicle:\n    def __init__(self, type_of_vehicle):\n        self.type = type_of_vehicle\n\n    def display_type(self):\n        print(f\"Vehicle Type: {self.type}\")\n\n\nclass Car(Vehicle):\n    def __init__(self, type_of_vehicle, brand):\n        super().__init__(type_of_vehicle)\n        self.brand = brand\n\n    def display_brand(self):\n        print(f\"Car Brand: {self.brand}\")\n\nclass ElectricCar(Car):\n    def __init__(self, type_of_vehicle, brand, battery_capacity):\n        super().__init__(type_of_vehicle, brand)\n        self.battery_capacity = battery_capacity\n\n    def display_battery(self):\n        print(f\"Battery Capacity: {self.battery_capacity} kWh\")\n\n\nelectric_car = ElectricCar(\"Electric\", \"Tesla\", 75)\n\nelectric_car.display_type()       \nelectric_car.display_brand()      \nelectric_car.display_battery()    \n",
      "metadata": {
        "trusted": true
      },
      "outputs": [
        {
          "name": "stdout",
          "output_type": "stream",
          "text": "Vehicle Type: Electric\nCar Brand: Tesla\nBattery Capacity: 75 kWh\n"
        }
      ],
      "execution_count": 3
    },
    {
      "id": "b30324dc-7650-400e-af56-9d771be70c90",
      "cell_type": "code",
      "source": "#ques4\nclass Bird:\n    def fly(self):\n        print(\"The bird is flying.\")\n\nclass Sparrow(Bird):\n    def fly(self):\n        print(\"The sparrow is flying swiftly.\")\n\nclass Penguin(Bird):\n    def fly(self):\n        print(\"The penguin cannot fly.\")\n\nsparrow = Sparrow()\npenguin = Penguin()\n\nsparrow.fly()    \npenguin.fly()    \n",
      "metadata": {
        "trusted": true
      },
      "outputs": [
        {
          "name": "stdout",
          "output_type": "stream",
          "text": "The sparrow is flying swiftly.\nThe penguin cannot fly.\n"
        }
      ],
      "execution_count": 4
    },
    {
      "id": "9cf85900-05ca-46be-b12b-e43b49182ccc",
      "cell_type": "code",
      "source": "#ques5\nclass BankAccount:\n    def __init__(self, initial_balance):\n        self.__balance = initial_balance  \n\n    def deposit(self, amount):\n        if amount > 0:\n            self.__balance += amount\n            print(f\"Deposited {amount}. New balance: {self.__balance}\")\n        else:\n            print(\"Deposit amount must be positive.\")\n\n    def withdraw(self, amount):\n        if amount > 0 and amount <= self.__balance:\n            self.__balance -= amount\n            print(f\"Withdrew {amount}. Remaining balance: {self.__balance}\")\n        else:\n            print(\"Invalid withdrawal amount or insufficient balance.\")\n\n    def check_balance(self):\n        print(f\"Current balance: {self.__balance}\")\n\naccount = BankAccount(1000)\n\naccount.deposit(500)      \naccount.withdraw(200)     \naccount.check_balance()   \n",
      "metadata": {
        "trusted": true
      },
      "outputs": [
        {
          "name": "stdout",
          "output_type": "stream",
          "text": "Deposited 500. New balance: 1500\nWithdrew 200. Remaining balance: 1300\nCurrent balance: 1300\n"
        }
      ],
      "execution_count": 5
    },
    {
      "id": "e83084f9-6038-460e-bc40-29263424d2cf",
      "cell_type": "code",
      "source": "#ques6\nclass Instrument:\n    def play(self):\n        print(\"Playing an instrument\")\n\nclass Guitar(Instrument):\n    def play(self):\n        print(\"Playing the guitar\")\n\nclass Piano(Instrument):\n    def play(self):\n        print(\"Playing the piano\")\n\ninstrument = Instrument()\nguitar = Guitar()\npiano = Piano()\n\ninstrument.play()\nguitar.play()\npiano.play()",
      "metadata": {
        "trusted": true
      },
      "outputs": [
        {
          "name": "stdout",
          "output_type": "stream",
          "text": "Playing an instrument\nPlaying the guitar\nPlaying the piano\n"
        }
      ],
      "execution_count": 6
    },
    {
      "id": "109a86cf-47b3-434d-82af-d19074b692cf",
      "cell_type": "code",
      "source": "#ques7\nclass MathOperations:\n    @classmethod\n    def add_numbers(cls, a, b):\n        return a + b\n\n    @staticmethod\n    def subtract_numbers(a, b):\n        return a - b\n\nprint(MathOperations.add_numbers(5, 3))\nprint(MathOperations.subtract_numbers(5, 3))\n",
      "metadata": {
        "trusted": true
      },
      "outputs": [
        {
          "name": "stdout",
          "output_type": "stream",
          "text": "8\n2\n"
        }
      ],
      "execution_count": 7
    },
    {
      "id": "d336f159-ffc6-476b-89cd-f2f1a1cbead1",
      "cell_type": "code",
      "source": "#ques8\nclass Person:\n    person_count = 0\n\n    def __init__(self):\n        Person.person_count += 1\n\n    @classmethod\n    def total_persons(cls):\n        return cls.person_count\n\nperson1 = Person()\nperson2 = Person()\nprint(Person.total_persons())",
      "metadata": {
        "trusted": true
      },
      "outputs": [
        {
          "name": "stdout",
          "output_type": "stream",
          "text": "2\n"
        }
      ],
      "execution_count": 8
    },
    {
      "id": "1a837f30-5032-4030-9608-1186070c23a0",
      "cell_type": "code",
      "source": "#ques9\nclass Fraction:\n    def __init__(self, numerator, denominator):\n        self.numerator = numerator\n        self.denominator = denominator\n\n    def __str__(self):\n        return f\"{self.numerator}/{self.denominator}\"\n\nfraction = Fraction(3, 4)\nprint(fraction)\n",
      "metadata": {
        "trusted": true
      },
      "outputs": [
        {
          "name": "stdout",
          "output_type": "stream",
          "text": "3/4\n"
        }
      ],
      "execution_count": 9
    },
    {
      "id": "f5fb0513-f834-4678-a7d3-6c5f68d19817",
      "cell_type": "code",
      "source": "#ques10\nclass Vector:\n    def __init__(self, x, y):\n        self.x = x\n        self.y = y\n\n    def __add__(self, other):\n        return Vector(self.x + other.x, self.y + other.y)\n\n    def __str__(self):\n        return f\"({self.x}, {self.y})\"\n\nvector1 = Vector(1, 2)\nvector2 = Vector(3, 4)\n\nresult = vector1 + vector2\nprint(result)\n",
      "metadata": {
        "trusted": true
      },
      "outputs": [
        {
          "name": "stdout",
          "output_type": "stream",
          "text": "(4, 6)\n"
        }
      ],
      "execution_count": 10
    },
    {
      "id": "5da81523-52c9-47f3-8f12-3c8ff38343e4",
      "cell_type": "code",
      "source": "#ques11\nclass Person:\n    def __init__(self, name, age):\n        self.name = name\n        self.age = age\n\n    def greet(self):\n        print(f\"Hello, my name is {self.name} and I am {self.age} years old.\")\n\nperson = Person(\"John\", 30)\nperson.greet()",
      "metadata": {
        "trusted": true
      },
      "outputs": [
        {
          "name": "stdout",
          "output_type": "stream",
          "text": "Hello, my name is John and I am 30 years old.\n"
        }
      ],
      "execution_count": 18
    },
    {
      "id": "1011387f-7426-46ad-a44e-ca6aee076563",
      "cell_type": "code",
      "source": "#ques12\nclass Student:\n    def __init__(self, name, grades):\n        self.name = name\n        self.grades = grades\n\n    def average_grade(self):\n        return sum(self.grades) / len(self.grades)\n\nstudent = Student(\"Alice\", [85, 90, 88, 92])\nprint(f\"Average Grade: {student.average_grade()}\")\n",
      "metadata": {
        "trusted": true
      },
      "outputs": [
        {
          "name": "stdout",
          "output_type": "stream",
          "text": "Average Grade: 88.75\n"
        }
      ],
      "execution_count": 19
    },
    {
      "id": "9fdf4ec1-fe11-4566-a23f-f55bf5c3ae55",
      "cell_type": "code",
      "source": "#ques13\nclass Rectangle:\n    def __init__(self):\n        self.width = 0\n        self.height = 0\n\n    def set_dimensions(self, width, height):\n        self.width = width\n        self.height = height\n\n    def area(self):\n        return self.width * self.height\n\nrectangle = Rectangle()\nrectangle.set_dimensions(5, 3)\nprint(f\"Area of Rectangle: {rectangle.area()}\")",
      "metadata": {
        "trusted": true
      },
      "outputs": [
        {
          "name": "stdout",
          "output_type": "stream",
          "text": "Area of Rectangle: 15\n"
        }
      ],
      "execution_count": 20
    },
    {
      "id": "7adf6d7d-f02b-4d49-b4db-c95be251e90e",
      "cell_type": "code",
      "source": "#ques14\nclass Employee:\n    def __init__(self, name, hours_worked, hourly_rate):\n        self.name = name\n        self.hours_worked = hours_worked\n        self.hourly_rate = hourly_rate\n\n    def calculate_salary(self):\n        return self.hours_worked * self.hourly_rate\n\nclass Manager(Employee):\n    def __init__(self, name, hours_worked, hourly_rate, bonus):\n        super().__init__(name, hours_worked, hourly_rate)\n        self.bonus = bonus\n\n    def calculate_salary(self):\n        return super().calculate_salary() + self.bonus\n\nemployee = Employee(\"Tom\", 40, 25)\nmanager = Manager(\"Susan\", 40, 30, 500)\n\nprint(f\"Employee Salary: {employee.calculate_salary()}\")\nprint(f\"Manager Salary: {manager.calculate_salary()}\")\n",
      "metadata": {
        "trusted": true
      },
      "outputs": [
        {
          "name": "stdout",
          "output_type": "stream",
          "text": "Employee Salary: 1000\nManager Salary: 1700\n"
        }
      ],
      "execution_count": 21
    },
    {
      "id": "11cfa9a5-9a2d-465f-9577-88ab563a765e",
      "cell_type": "code",
      "source": "#ques15\nclass Product:\n    def __init__(self, name, price, quantity):\n        self.name = name\n        self.price = price\n        self.quantity = quantity\n\n    def total_price(self):\n        return self.price * self.quantity\n\nproduct = Product(\"Laptop\", 1000, 3)\nprint(f\"Total Price: {product.total_price()}\")\n",
      "metadata": {
        "trusted": true
      },
      "outputs": [
        {
          "name": "stdout",
          "output_type": "stream",
          "text": "Total Price: 3000\n"
        }
      ],
      "execution_count": 22
    },
    {
      "id": "f51cc87f-bc0e-4303-a93d-f5699aaee92a",
      "cell_type": "code",
      "source": "#ques16\nfrom abc import ABC, abstractmethod\n\nclass Animal(ABC):\n    @abstractmethod\n    def sound(self):\n        pass\n\nclass Cow(Animal):\n    def sound(self):\n        print(\"Moo\")\n\nclass Sheep(Animal):\n    def sound(self):\n        print(\"Baa\")\n\ncow = Cow()\nsheep = Sheep()\n\ncow.sound()  \nsheep.sound()  \n",
      "metadata": {
        "trusted": true
      },
      "outputs": [
        {
          "name": "stdout",
          "output_type": "stream",
          "text": "Moo\nBaa\n"
        }
      ],
      "execution_count": 23
    },
    {
      "id": "4cfeaa27-2e3e-476f-b6f8-270a04ec6834",
      "cell_type": "code",
      "source": "#ques17\nclass Book:\n    def __init__(self, title, author, year_published):\n        self.title = title\n        self.author = author\n        self.year_published = year_published\n\n    def get_book_info(self):\n        return f\"Title: {self.title}, Author: {self.author}, Year Published: {self.year_published}\"\n\nbook = Book(\"1984\", \"George Orwell\", 1949)\nprint(book.get_book_info())\n",
      "metadata": {
        "trusted": true
      },
      "outputs": [
        {
          "name": "stdout",
          "output_type": "stream",
          "text": "Title: 1984, Author: George Orwell, Year Published: 1949\n"
        }
      ],
      "execution_count": 24
    },
    {
      "id": "18391ab9-7ca0-48b5-9e79-22f3a00a713b",
      "cell_type": "code",
      "source": "#ques18\nclass House:\n    def __init__(self, address, price):\n        self.address = address\n        self.price = price\n\nclass Mansion(House):\n    def __init__(self, address, price, number_of_rooms):\n        super().__init__(address, price)\n        self.number_of_rooms = number_of_rooms\n\nmansion = Mansion(\"123 Luxury St\", 5000000, 12)\nprint(f\"Mansion Address: {mansion.address}, Price: {mansion.price}, Rooms: {mansion.number_of_rooms}\")\n",
      "metadata": {
        "trusted": true
      },
      "outputs": [
        {
          "name": "stdout",
          "output_type": "stream",
          "text": "Mansion Address: 123 Luxury St, Price: 5000000, Rooms: 12\n"
        }
      ],
      "execution_count": 25
    },
    {
      "id": "e402b72d-0965-4a15-81bd-efa33e871864",
      "cell_type": "code",
      "source": "",
      "metadata": {
        "trusted": true
      },
      "outputs": [],
      "execution_count": null
    }
  ]
}